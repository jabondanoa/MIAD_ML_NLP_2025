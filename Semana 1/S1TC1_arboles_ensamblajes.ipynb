{
 "cells": [
  {
   "cell_type": "markdown",
   "metadata": {},
   "source": [
    "![image info](https://raw.githubusercontent.com/albahnsen/MIAD_ML_and_NLP/main/images/banner_1.png)"
   ]
  },
  {
   "cell_type": "markdown",
   "metadata": {},
   "source": [
    "# **Joaquin Abondano - 201728997**\n",
    "# Taller: Construcción e implementación de árboles de decisión y métodos de ensamblaje\n",
    "\n",
    "En este taller podrá poner en práctica los sus conocimientos sobre construcción e implementación de árboles de decisión y métodos de ensamblajes. El taller está constituido por 9 puntos, 5 relacionados con árboles de decisión (parte A) y 4 con métodos de ensamblaje (parte B)."
   ]
  },
  {
   "cell_type": "markdown",
   "metadata": {},
   "source": [
    "## Parte A - Árboles de decisión\n",
    "\n",
    "En esta parte del taller se usará el conjunto de datos de Capital Bikeshare de Kaggle, donde cada observación representa el alquiler de bicicletas durante una hora y día determinado. Para más detalles puede visitar los siguientes enlaces: [datos](https://archive.ics.uci.edu/ml/machine-learning-databases/00275/Bike-Sharing-Dataset.zip), [dicccionario de datos](https://archive.ics.uci.edu/ml/datasets/Bike+Sharing+Dataset#)."
   ]
  },
  {
   "cell_type": "markdown",
   "metadata": {},
   "source": [
    "### Datos prestamo de bicicletas"
   ]
  },
  {
   "cell_type": "code",
   "execution_count": 105,
   "metadata": {},
   "outputs": [],
   "source": [
    "import warnings\n",
    "warnings.filterwarnings('ignore')"
   ]
  },
  {
   "cell_type": "code",
   "execution_count": 167,
   "metadata": {},
   "outputs": [],
   "source": [
    "# Importación de librerías\n",
    "import pandas as pd\n",
    "import numpy as np\n",
    "import matplotlib.pyplot as plt\n",
    "from sklearn.model_selection import cross_val_score, train_test_split, GridSearchCV\n",
    "from sklearn import metrics\n",
    "from sklearn.metrics import mean_squared_error, r2_score, accuracy_score, confusion_matrix, mean_absolute_error, f1_score\n",
    "from sklearn.linear_model import LinearRegression, LogisticRegression\n",
    "from sklearn.tree import DecisionTreeRegressor, DecisionTreeClassifier\n",
    "from sklearn.preprocessing import StandardScaler\n",
    "from sklearn.ensemble import BaggingClassifier"
   ]
  },
  {
   "cell_type": "code",
   "execution_count": 107,
   "metadata": {},
   "outputs": [
    {
     "data": {
      "application/vnd.microsoft.datawrangler.viewer.v0+json": {
       "columns": [
        {
         "name": "datetime",
         "rawType": "datetime64[ns]",
         "type": "datetime"
        },
        {
         "name": "season",
         "rawType": "int64",
         "type": "integer"
        },
        {
         "name": "holiday",
         "rawType": "int64",
         "type": "integer"
        },
        {
         "name": "workingday",
         "rawType": "int64",
         "type": "integer"
        },
        {
         "name": "weather",
         "rawType": "int64",
         "type": "integer"
        },
        {
         "name": "temp",
         "rawType": "float64",
         "type": "float"
        },
        {
         "name": "atemp",
         "rawType": "float64",
         "type": "float"
        },
        {
         "name": "humidity",
         "rawType": "int64",
         "type": "integer"
        },
        {
         "name": "windspeed",
         "rawType": "float64",
         "type": "float"
        },
        {
         "name": "casual",
         "rawType": "int64",
         "type": "integer"
        },
        {
         "name": "registered",
         "rawType": "int64",
         "type": "integer"
        },
        {
         "name": "total",
         "rawType": "int64",
         "type": "integer"
        },
        {
         "name": "hour",
         "rawType": "int32",
         "type": "integer"
        }
       ],
       "conversionMethod": "pd.DataFrame",
       "ref": "9e186143-93b9-4408-86ea-ac29d4b7585c",
       "rows": [
        [
         "2011-01-01 00:00:00",
         "1",
         "0",
         "0",
         "1",
         "9.84",
         "14.395",
         "81",
         "0.0",
         "3",
         "13",
         "16",
         "0"
        ],
        [
         "2011-01-01 01:00:00",
         "1",
         "0",
         "0",
         "1",
         "9.02",
         "13.635",
         "80",
         "0.0",
         "8",
         "32",
         "40",
         "1"
        ],
        [
         "2011-01-01 02:00:00",
         "1",
         "0",
         "0",
         "1",
         "9.02",
         "13.635",
         "80",
         "0.0",
         "5",
         "27",
         "32",
         "2"
        ],
        [
         "2011-01-01 03:00:00",
         "1",
         "0",
         "0",
         "1",
         "9.84",
         "14.395",
         "75",
         "0.0",
         "3",
         "10",
         "13",
         "3"
        ],
        [
         "2011-01-01 04:00:00",
         "1",
         "0",
         "0",
         "1",
         "9.84",
         "14.395",
         "75",
         "0.0",
         "0",
         "1",
         "1",
         "4"
        ]
       ],
       "shape": {
        "columns": 12,
        "rows": 5
       }
      },
      "text/html": [
       "<div>\n",
       "<style scoped>\n",
       "    .dataframe tbody tr th:only-of-type {\n",
       "        vertical-align: middle;\n",
       "    }\n",
       "\n",
       "    .dataframe tbody tr th {\n",
       "        vertical-align: top;\n",
       "    }\n",
       "\n",
       "    .dataframe thead th {\n",
       "        text-align: right;\n",
       "    }\n",
       "</style>\n",
       "<table border=\"1\" class=\"dataframe\">\n",
       "  <thead>\n",
       "    <tr style=\"text-align: right;\">\n",
       "      <th></th>\n",
       "      <th>season</th>\n",
       "      <th>holiday</th>\n",
       "      <th>workingday</th>\n",
       "      <th>weather</th>\n",
       "      <th>temp</th>\n",
       "      <th>atemp</th>\n",
       "      <th>humidity</th>\n",
       "      <th>windspeed</th>\n",
       "      <th>casual</th>\n",
       "      <th>registered</th>\n",
       "      <th>total</th>\n",
       "      <th>hour</th>\n",
       "    </tr>\n",
       "    <tr>\n",
       "      <th>datetime</th>\n",
       "      <th></th>\n",
       "      <th></th>\n",
       "      <th></th>\n",
       "      <th></th>\n",
       "      <th></th>\n",
       "      <th></th>\n",
       "      <th></th>\n",
       "      <th></th>\n",
       "      <th></th>\n",
       "      <th></th>\n",
       "      <th></th>\n",
       "      <th></th>\n",
       "    </tr>\n",
       "  </thead>\n",
       "  <tbody>\n",
       "    <tr>\n",
       "      <th>2011-01-01 00:00:00</th>\n",
       "      <td>1</td>\n",
       "      <td>0</td>\n",
       "      <td>0</td>\n",
       "      <td>1</td>\n",
       "      <td>9.84</td>\n",
       "      <td>14.395</td>\n",
       "      <td>81</td>\n",
       "      <td>0.0</td>\n",
       "      <td>3</td>\n",
       "      <td>13</td>\n",
       "      <td>16</td>\n",
       "      <td>0</td>\n",
       "    </tr>\n",
       "    <tr>\n",
       "      <th>2011-01-01 01:00:00</th>\n",
       "      <td>1</td>\n",
       "      <td>0</td>\n",
       "      <td>0</td>\n",
       "      <td>1</td>\n",
       "      <td>9.02</td>\n",
       "      <td>13.635</td>\n",
       "      <td>80</td>\n",
       "      <td>0.0</td>\n",
       "      <td>8</td>\n",
       "      <td>32</td>\n",
       "      <td>40</td>\n",
       "      <td>1</td>\n",
       "    </tr>\n",
       "    <tr>\n",
       "      <th>2011-01-01 02:00:00</th>\n",
       "      <td>1</td>\n",
       "      <td>0</td>\n",
       "      <td>0</td>\n",
       "      <td>1</td>\n",
       "      <td>9.02</td>\n",
       "      <td>13.635</td>\n",
       "      <td>80</td>\n",
       "      <td>0.0</td>\n",
       "      <td>5</td>\n",
       "      <td>27</td>\n",
       "      <td>32</td>\n",
       "      <td>2</td>\n",
       "    </tr>\n",
       "    <tr>\n",
       "      <th>2011-01-01 03:00:00</th>\n",
       "      <td>1</td>\n",
       "      <td>0</td>\n",
       "      <td>0</td>\n",
       "      <td>1</td>\n",
       "      <td>9.84</td>\n",
       "      <td>14.395</td>\n",
       "      <td>75</td>\n",
       "      <td>0.0</td>\n",
       "      <td>3</td>\n",
       "      <td>10</td>\n",
       "      <td>13</td>\n",
       "      <td>3</td>\n",
       "    </tr>\n",
       "    <tr>\n",
       "      <th>2011-01-01 04:00:00</th>\n",
       "      <td>1</td>\n",
       "      <td>0</td>\n",
       "      <td>0</td>\n",
       "      <td>1</td>\n",
       "      <td>9.84</td>\n",
       "      <td>14.395</td>\n",
       "      <td>75</td>\n",
       "      <td>0.0</td>\n",
       "      <td>0</td>\n",
       "      <td>1</td>\n",
       "      <td>1</td>\n",
       "      <td>4</td>\n",
       "    </tr>\n",
       "  </tbody>\n",
       "</table>\n",
       "</div>"
      ],
      "text/plain": [
       "                     season  holiday  workingday  weather  temp   atemp  \\\n",
       "datetime                                                                  \n",
       "2011-01-01 00:00:00       1        0           0        1  9.84  14.395   \n",
       "2011-01-01 01:00:00       1        0           0        1  9.02  13.635   \n",
       "2011-01-01 02:00:00       1        0           0        1  9.02  13.635   \n",
       "2011-01-01 03:00:00       1        0           0        1  9.84  14.395   \n",
       "2011-01-01 04:00:00       1        0           0        1  9.84  14.395   \n",
       "\n",
       "                     humidity  windspeed  casual  registered  total  hour  \n",
       "datetime                                                                   \n",
       "2011-01-01 00:00:00        81        0.0       3          13     16     0  \n",
       "2011-01-01 01:00:00        80        0.0       8          32     40     1  \n",
       "2011-01-01 02:00:00        80        0.0       5          27     32     2  \n",
       "2011-01-01 03:00:00        75        0.0       3          10     13     3  \n",
       "2011-01-01 04:00:00        75        0.0       0           1      1     4  "
      ]
     },
     "execution_count": 107,
     "metadata": {},
     "output_type": "execute_result"
    }
   ],
   "source": [
    "# Lectura de la información de archivo .csv\n",
    "bikes = pd.read_csv('https://raw.githubusercontent.com/davidzarruk/MIAD_ML_NLP_2023/main/datasets/bikeshare.csv', index_col='datetime', parse_dates=True)\n",
    "\n",
    "# Renombrar variable \"count\" a \"total\"\n",
    "bikes.rename(columns={'count':'total'}, inplace=True)\n",
    "\n",
    "# Crear la hora como una variable \n",
    "bikes['hour'] = bikes.index.hour\n",
    "\n",
    "# Visualización de los datos\n",
    "bikes.head()"
   ]
  },
  {
   "cell_type": "markdown",
   "metadata": {},
   "source": [
    "### Punto 1 - Análisis descriptivo\n",
    "\n",
    "Ejecute las celdas 1.1 y 1.2. A partir de los resultados realice un análisis descriptivo sobre las variables \"season\" y \"hour\", escriba sus inferencias sobre los datos. Para complementar su análisis puede usar métricas como máximo, mínimo, percentiles entre otros."
   ]
  },
  {
   "cell_type": "code",
   "execution_count": 108,
   "metadata": {},
   "outputs": [
    {
     "name": "stdout",
     "output_type": "stream",
     "text": [
      "Promedio de bicicletas por estación:\n",
      "season\n",
      "1    116.343261\n",
      "2    215.251372\n",
      "3    234.417124\n",
      "4    198.988296\n",
      "Name: total, dtype: float64\n",
      "\n",
      "Estadiscas descriptivas por estación:\n",
      "         count        mean         std  min   25%    50%    75%    max\n",
      "season                                                                \n",
      "1       2686.0  116.343261  125.273974  1.0  24.0   78.0  164.0  801.0\n",
      "2       2733.0  215.251372  192.007843  1.0  49.0  172.0  321.0  873.0\n",
      "3       2733.0  234.417124  197.151001  1.0  68.0  195.0  347.0  977.0\n",
      "4       2734.0  198.988296  177.622409  1.0  51.0  161.0  294.0  948.0\n"
     ]
    },
    {
     "data": {
      "text/plain": [
       "Text(0.5, 0, 'Estación')"
      ]
     },
     "execution_count": 108,
     "metadata": {},
     "output_type": "execute_result"
    },
    {
     "data": {
      "image/png": "[encoded data removed]",
      "text/plain": [
       "<Figure size 640x480 with 1 Axes>"
      ]
     },
     "metadata": {},
     "output_type": "display_data"
    }
   ],
   "source": [
    "# Celda 1.1\n",
    "# Homologacion 1:winter, 2:spring, 3:summer, 4:fall\n",
    "conteo_estaciones = bikes.groupby('season').total.mean()\n",
    "print(\"Promedio de bicicletas por estación:\")\n",
    "print(conteo_estaciones)\n",
    "\n",
    "estaciones = bikes.groupby('season').total.describe()\n",
    "print(\"\\nEstadiscas descriptivas por estación:\")\n",
    "print(estaciones)\n",
    "\n",
    "visual_conteo_estaciones = bikes.groupby('season').total.mean().plot(kind='bar', title='Promedio de bicicletas rentadas por estación')\n",
    "visual_conteo_estaciones.set_ylabel('Promedio de bicicletas')\n",
    "visual_conteo_estaciones.set_xlabel('Estación')"
   ]
  },
  {
   "cell_type": "code",
   "execution_count": 109,
   "metadata": {
    "scrolled": true
   },
   "outputs": [
    {
     "name": "stdout",
     "output_type": "stream",
     "text": [
      "Promedio de bicicletas por hora\n",
      "hour\n",
      "0      55.138462\n",
      "1      33.859031\n",
      "2      22.899554\n",
      "3      11.757506\n",
      "4       6.407240\n",
      "5      19.767699\n",
      "6      76.259341\n",
      "7     213.116484\n",
      "8     362.769231\n",
      "9     221.780220\n",
      "10    175.092308\n",
      "11    210.674725\n",
      "12    256.508772\n",
      "13    257.787281\n",
      "14    243.442982\n",
      "15    254.298246\n",
      "16    316.372807\n",
      "17    468.765351\n",
      "18    430.859649\n",
      "19    315.278509\n",
      "20    228.517544\n",
      "21    173.370614\n",
      "22    133.576754\n",
      "23     89.508772\n",
      "Name: total, dtype: float64\n",
      "\n",
      "Estadísticas descriptivas de bicicletas por hora\n",
      "      count        mean         std   min     25%    50%     75%    max\n",
      "hour                                                                   \n",
      "0     455.0   55.138462   43.620012   2.0   24.00   41.0   74.50  283.0\n",
      "1     454.0   33.859031   34.112105   1.0   11.00   19.0   46.00  168.0\n",
      "2     448.0   22.899554   26.110267   1.0    5.00   11.0   32.00  119.0\n",
      "3     433.0   11.757506   12.666442   1.0    3.00    6.0   15.00   66.0\n",
      "4     442.0    6.407240    4.217633   1.0    3.00    6.0    9.00   28.0\n",
      "5     452.0   19.767699   12.784293   1.0    8.00   19.0   29.00   57.0\n",
      "6     455.0   76.259341   54.745333   1.0   24.50   75.0  118.00  213.0\n",
      "7     455.0  213.116484  159.207044   1.0   63.00  208.0  334.00  596.0\n",
      "8     455.0  362.769231  231.723065   8.0  133.50  392.0  563.50  839.0\n",
      "9     455.0  221.780220   92.099209  14.0  161.00  217.0  294.50  414.0\n",
      "10    455.0  175.092308  101.807629  17.0  106.00  149.0  218.50  539.0\n",
      "11    455.0  210.674725  127.444294  10.0  123.00  183.0  265.50  647.0\n",
      "12    456.0  256.508772  143.881880   3.0  157.00  234.5  332.00  757.0\n",
      "13    456.0  257.787281  149.167185  11.0  154.00  226.5  329.00  729.0\n",
      "14    456.0  243.442982  147.563199  12.0  144.00  212.0  311.25  730.0\n",
      "15    456.0  254.298246  144.235670   7.0  154.00  232.0  331.00  724.0\n",
      "16    456.0  316.372807  145.664786  11.0  211.75  309.5  421.00  783.0\n",
      "17    456.0  468.765351  223.775485  15.0  277.00  480.5  608.50  970.0\n",
      "18    456.0  430.859649  219.908138  23.0  240.75  422.5  564.00  977.0\n",
      "19    456.0  315.278509  156.641732  11.0  190.00  312.5  416.00  743.0\n",
      "20    456.0  228.517544  116.411565  11.0  136.75  224.0  302.00  551.0\n",
      "21    456.0  173.370614   87.629319   6.0  103.50  171.5  230.00  584.0\n",
      "22    456.0  133.576754   69.844495   9.0   80.00  129.0  175.00  502.0\n",
      "23    456.0   89.508772   51.638004   4.0   52.75   80.0  123.00  256.0\n"
     ]
    }
   ],
   "source": [
    "# Celda 1.2\n",
    "promedio_hour = bikes.groupby('hour').total.mean()\n",
    "print(\"Promedio de bicicletas por hora\")\n",
    "print(promedio_hour)\n",
    "\n",
    "estadisticas_hour = bikes.groupby('hour').total.describe()\n",
    "print(\"\\nEstadísticas descriptivas de bicicletas por hora\")\n",
    "print(estadisticas_hour)"
   ]
  },
  {
   "cell_type": "markdown",
   "metadata": {},
   "source": [
    "#### **Hallazgos y conclusiones**\n",
    "\n",
    "* **Variable season**:\n",
    "  * La temporada con menor demanda es 1 (invierno), con un promedio de 116.34 bicicletas rentadas\n",
    "  * La demanda aumenta significativamente en la temporada 2 (primavera) y alcanza su punto más alto en la temporada 3 (verano), con un promedio de 234.41 bicicletas\n",
    "  * Para la cuarta temporada (otoño) se tiene un descenso frente al verano, pero sigue siendo superior al invierno con un promedio de 198.98 bicicletas\n",
    "  * Mayor variabilidad en verano (desviación estándar cercana a 197)\n",
    "  * El valor máximo de demanda también ocurre en verano (977 bicicletas)\n",
    "  * El invierno muestra baja dispersión y menor demanda frente a las demás temporadas\n",
    "\n",
    "* **Variable hour**:\n",
    "  * El análisis de las bicicletas rentadas por hora muestra que la demanda promedio es muy baja durante la madrugada con un mínimo a las 4 am de 6.40 bicicletas rentadas\n",
    "  * Al rededor de las 8 am crece la demanda registrando un valor promedio de 362.76\n",
    "  * Durante el mediodía, la demanda desciende y vuelve a aumentar en la tarde\n",
    "  * Posteriormente, la demanda decrece en la noche\n",
    "  * Desviación estándar alta en horas pico (8 am y 5 pm): cerca de 230, indicando alta variabilidad\n",
    "  * Máximo absoluto a las 5 pm: 977 bicicletas rentadas en una sola hora\n",
    "  * Baja dispersión en horas de madrugada, lo que refleja un comportamiento estable y predecible de baja demanda\n"
   ]
  },
  {
   "cell_type": "markdown",
   "metadata": {},
   "source": [
    "### Punto 2 - Análisis de gráficos\n",
    "\n",
    "Primero ejecute la celda 2.1 y asegúrese de comprender el código y el resultado. Luego, en cada una de celdas 2.2 y 2.3 escriba un código que genere una gráfica del número de bicicletas rentadas promedio para cada valor de la variable \"hour\" (hora) cuando la variable \"season\" es igual a 1 (invierno) e igual a 3 (verano), respectivamente. Analice y escriba sus hallazgos."
   ]
  },
  {
   "cell_type": "code",
   "execution_count": 110,
   "metadata": {},
   "outputs": [
    {
     "data": {
      "text/plain": [
       "Text(0.5, 0, 'Hora')"
      ]
     },
     "execution_count": 110,
     "metadata": {},
     "output_type": "execute_result"
    },
    {
     "data": {
      "image/png": "[encoded data removed]",
      "text/plain": [
       "<Figure size 640x480 with 1 Axes>"
      ]
     },
     "metadata": {},
     "output_type": "display_data"
    }
   ],
   "source": [
    "# Celda 2.1 - rentas promedio para cada valor de la variable \"hour\"\n",
    "bikes.groupby('hour').total.mean().plot()\n",
    "plt.title('Promedio de bicicletas rentadas por hora')\n",
    "plt.ylabel('Promedio de bicicletas')\n",
    "plt.xlabel('Hora')"
   ]
  },
  {
   "cell_type": "code",
   "execution_count": 111,
   "metadata": {},
   "outputs": [
    {
     "data": {
      "text/plain": [
       "Text(0.5, 0, 'Hora')"
      ]
     },
     "execution_count": 111,
     "metadata": {},
     "output_type": "execute_result"
    },
    {
     "data": {
      "image/png": "[encoded data removed]",
      "text/plain": [
       "<Figure size 640x480 with 1 Axes>"
      ]
     },
     "metadata": {},
     "output_type": "display_data"
    }
   ],
   "source": [
    "# Celda 2.2 - \"season\"=1 escriba su código y hallazgos \n",
    "bikes[bikes['season'] == 1].groupby('hour').total.mean().plot()\n",
    "plt.title('Promedio de bicicletas rentadas por hora en invierno')\n",
    "plt.ylabel('Promedio de bicicletas')\n",
    "plt.xlabel('Hora')"
   ]
  },
  {
   "cell_type": "code",
   "execution_count": 112,
   "metadata": {},
   "outputs": [
    {
     "data": {
      "text/plain": [
       "Text(0.5, 0, 'Hora')"
      ]
     },
     "execution_count": 112,
     "metadata": {},
     "output_type": "execute_result"
    },
    {
     "data": {
      "image/png": "[encoded data removed]",
      "text/plain": [
       "<Figure size 640x480 with 1 Axes>"
      ]
     },
     "metadata": {},
     "output_type": "display_data"
    }
   ],
   "source": [
    "# Celda 2.3 - \"season\"=3 escriba su código y hallazgos \n",
    "bikes[bikes['season'] == 3].groupby('hour').total.mean().plot()\n",
    "plt.title('Promedio de bicicletas rentadas por hora en verano')\n",
    "plt.ylabel('Promedio de bicicletas')\n",
    "plt.xlabel('Hora')"
   ]
  },
  {
   "cell_type": "markdown",
   "metadata": {},
   "source": [
    "#### **Hallazgos y conclusiones**\n",
    "\n",
    "* **Season 1 invierno**:\n",
    "  * La demanda es baja y estable durante la madrugada\n",
    "  * El primer pico significativo ocurre a las 8 am\n",
    "  * Se mantiene una demanda sostenida durante el mediodía\n",
    "  * El pico máximo ocurre a las 5 pm, seguido de una caída por la noche\n",
    "\n",
    "* **Season 3 verano**:\n",
    "  * El patrón es similar al del invierno, pero con una mayor cantidad de bicicletas rentadas (el rango del eje 'y' va por encima de 400, mientras que en invierno llegaba hasta 250 bicicletas)\n",
    "  * La demanda es baja y estable durante la madrugada\n",
    "  * El primer pico significativo ocurre a las 8 am\n",
    "  * Se mantiene una demanda sostenida durante el mediodía y la tarde, más constante que en el invierno\n",
    "  * El pico máximo ocurre a las 5 pm\n",
    "  * La noche cae pero cuenta con niveles altos en comparación al invierno\n",
    "\n",
    "* **Comparativa entre estaciones y el total**:\n",
    "  * El comportamiento general (gráfica 1) tiene un comportamiento como el del invierno y verano, con picos de demanda para las 8 am y 5 pm y reducciones en la madrugada y la noche\n",
    "  * El invierno se sitúa consistentemente por debajo del promedio total en todas las horas del día\n",
    "  * El verano está por encima en la demanda promedio frente a la gráfica total (y al invierno)\n",
    "  * La diferencia máxima entre verano e invierno se da a las 5 pm, con una brecha cercana a 200 bicicletas en promedio"
   ]
  },
  {
   "cell_type": "markdown",
   "metadata": {},
   "source": [
    "### Punto 3 - Regresión lineal\n",
    "En la celda 3 ajuste un modelo de regresión lineal a todo el conjunto de datos, utilizando \"total\" como variable de respuesta y \"season\" y \"hour\" como las únicas variables predictoras, teniendo en cuenta que la variable \"season\" es categórica. Luego, imprima los coeficientes e interprételos. ¿Cuáles son las limitaciones de la regresión lineal en este caso?"
   ]
  },
  {
   "cell_type": "code",
   "execution_count": 138,
   "metadata": {},
   "outputs": [
    {
     "name": "stdout",
     "output_type": "stream",
     "text": [
      "Resultados del modelo de regresión lineal:\n",
      "Error cuadrático medio (MSE): 25592.2331\n",
      "RMSE: 159.9757\n",
      "MAE: 119.1172\n",
      "R^2: 0.2135\n",
      "\n",
      "Coeficientes del modelo:\n",
      "Intercepto: -8.1872\n",
      "Hour: 10.7270\n",
      "Primavera: 99.7585\n",
      "Verano: 115.0783\n",
      "Otoño: 88.9182\n"
     ]
    }
   ],
   "source": [
    "# Celda 3\n",
    "# Separación de variables predictoras (X) y variable de interes (y)\n",
    "bikes_3 = bikes.copy()\n",
    "X = bikes_3[['season', 'hour']]\n",
    "y = bikes_3['total']\n",
    "\n",
    "# Transformacion de la variable 'season' en variables dummy\n",
    "X = pd.get_dummies(X, columns=['season'], drop_first=True)\n",
    "\n",
    "# Separación de datos en conjunto de entrenamiento y conjunto de prueba\n",
    "X_train, X_test, y_train, y_test = train_test_split(X, y, test_size=0.3, random_state=42)\n",
    "\n",
    "# Creación del modelo de regresión lineal\n",
    "modelo_lineal = LinearRegression()\n",
    "modelo_lineal.fit(X_train, y_train)\n",
    "\n",
    "# Predicción de valores\n",
    "y_pred_lineal = modelo_lineal.predict(X_test)\n",
    "\n",
    "# Evaluación del modelo\n",
    "mse_lineal = mean_squared_error(y_test, y_pred_lineal)\n",
    "r2_lineal = r2_score(y_test, y_pred_lineal)\n",
    "rmse_lineal = np.sqrt(mse_lineal)\n",
    "mae_lineal = np.mean(np.abs(y_test - y_pred_lineal))\n",
    "\n",
    "# Coeficientes del modelo\n",
    "coeficientes_lineal = pd.Series(modelo_lineal.coef_, index=X.columns)\n",
    "intercepto_lineal = modelo_lineal.intercept_\n",
    "\n",
    "# Resultados\n",
    "print(\"Resultados del modelo de regresión lineal:\")\n",
    "print(f\"Error cuadrático medio (MSE): {mse_lineal:.4f}\")\n",
    "print(f\"RMSE: {rmse_lineal:.4f}\")\n",
    "print(f\"MAE: {mae_lineal:.4f}\")\n",
    "print(f\"R^2: {r2_lineal:.4f}\")\n",
    "print(\"\\nCoeficientes del modelo:\")\n",
    "print(f\"Intercepto: {intercepto_lineal:.4f}\")\n",
    "print(f\"Hour: {coeficientes_lineal['hour']:.4f}\")\n",
    "print(f\"Primavera: {coeficientes_lineal['season_2']:.4f}\")\n",
    "print(f\"Verano: {coeficientes_lineal['season_3']:.4f}\")\n",
    "print(f\"Otoño: {coeficientes_lineal['season_4']:.4f}\")\n",
    "\n"
   ]
  },
  {
   "cell_type": "markdown",
   "metadata": {},
   "source": [
    "#### **Conclusiones**\n",
    "\n",
    "* **Interpretación de los coeficientes de la regresión**:\n",
    "  * Intercepto (-8.18): representa el valor esperado de bicicletas rentadas cuando la hora es 0 (no que sean las 00.00 am sino igual a 0 la variable) y la estación es invierno (referencia)\n",
    "  * Hour (10.72): por cada hora adicional del día, se espera un aumento promedio de 10.73 bicicletas rentadas, sin cambiar la estación\n",
    "  * Primavera (99.755): en comparación con el invierno, la primavera representa un incremento promedio de 99.76 bicicletas rentadas, manteniendo la hora constante\n",
    "  * Verano (115.07): en comparación con el invierno, el verano representa un incremento promedio de 115.07 bicicletas rentadas,manteniendo la hora constante\n",
    "  * Otoño (88.91): en comparación con el invierno, el otoño representa un incremento promedio de 88.91 bicicletas rentadas, manteniendo la hora constante\n",
    "\n",
    "* **¿Cuáles son las limitaciones de la regresión lineal en este caso?**:\n",
    "  * La regresión lineal como está planteada no considera posibles interacciones entre hour y season, que podrían ser significativas, por ejemplo, el impacto de la hora varía la magnitud de la demanda según la estación (como se evidencio en el punto 2)\n",
    "  * La relación entre la hora del día y la demanda no es estrictamente lineal, a partir del punto 1 y 2 se observan picos de demanda marcados en ciertas horas del día que un modelo lineal no puede capturar con precisión\n",
    "  * El modelo tiene un coeficiente de determinacion R2 bajo (0.2135), indicando que el modelo solo explica el 21.35% de la variabilidad de la demanda total\n",
    "  * Lo anterior evidencia que el modelo es muy simple, apenas usa dos variables. Deja de lado otras variables que podrían ser importantes como el clima, la temperatura, el dia de la semana, que podrían mejorar el ajuste"
   ]
  },
  {
   "cell_type": "markdown",
   "metadata": {},
   "source": [
    "### Punto 4 - Árbol de decisión manual\n",
    "En la celda 4 cree un árbol de decisiones para pronosticar la variable \"total\" iterando **manualmente** sobre las variables \"hour\" y  \"season\". El árbol debe tener al menos 6 nodos finales."
   ]
  },
  {
   "cell_type": "code",
   "execution_count": 142,
   "metadata": {},
   "outputs": [
    {
     "name": "stdout",
     "output_type": "stream",
     "text": [
      "Resultados del árbol de decisión:\n",
      "Error cuadrático medio (MSE): 13778.6096\n",
      "RMSE: 117.3823\n",
      "MAE: 79.1937\n",
      "R^2: 0.5766\n",
      "Número de nodos: 85\n"
     ]
    }
   ],
   "source": [
    "# Celda 4\n",
    "# Definición de variables, parámetros y criterios de parada\n",
    "X_tree = bikes[['season', 'hour']]\n",
    "X_tree = pd.get_dummies(X_tree, columns=['season'], drop_first=True)\n",
    "X_tree = X_tree.astype(float)\n",
    "y_tree = bikes['total']\n",
    "\n",
    "\n",
    "# Separacion de datos entre entrenamiento y prueba\n",
    "X_train_tree, X_test_tree, y_train_tree, y_test_tree = train_test_split(X_tree, y_tree, test_size=0.3, random_state=42)\n",
    "\n",
    "\n",
    "# Creación del modelo de árbol de decisión manual\n",
    "# Funcion reduccion de varianza\n",
    "def var_reduccion(X_col, y, split):\n",
    "    \n",
    "    filter_l = X_col < split\n",
    "    y_l = y.loc[filter_l]\n",
    "    y_r = y.loc[~filter_l]\n",
    "    \n",
    "    n_l = y_l.shape[0]\n",
    "    n_r = y_r.shape[0]\n",
    "    \n",
    "    var_y = y.var()\n",
    "    var_l = y_l.var()\n",
    "    var_r = y_r.var()\n",
    "    \n",
    "    var_reduccion_ = var_y - ((n_l / (n_l + n_r)) * var_l + (n_r / (n_l + n_r)) * var_r)\n",
    "    \n",
    "    return var_reduccion_\n",
    "\n",
    "\n",
    "# Definición de la función best_split para calcular cuál es la mejor variable y punto de corte para hacer la bifurcación del árbol\n",
    "def best_split(X, y, num_pct=10):\n",
    "    \n",
    "    features = range(X.shape[1])\n",
    "    best_split = [0, 0, -np.inf]\n",
    "    \n",
    "    for j in features:\n",
    "        splits = np.percentile(X.iloc[:, j], np.linspace(0, 100, num_pct + 2))[1:-1]\n",
    "        splits = np.unique(splits)\n",
    "        \n",
    "        for split in splits:\n",
    "            gain = var_reduccion(X.iloc[:, j], y, split)\n",
    "            if gain > best_split[2]:\n",
    "                best_split = [j, split, gain]\n",
    "    \n",
    "    return best_split\n",
    "\n",
    "\n",
    "# Definición de la función tree_grow para hacer un crecimiento recursivo del árbol\n",
    "def tree_grow(X, y, level=0, min_gain=0.001, max_depth=None, num_pct=10):\n",
    "    \n",
    "    # Si solo es una observación\n",
    "    if X.shape[0] == 1:\n",
    "        tree = dict(y_pred=y.iloc[:1].values[0], y_prob=0.5, level=level, split=-1, n_samples=1, gain=0)\n",
    "        return tree\n",
    "    \n",
    "    # Calcular la mejor división\n",
    "    j, split, gain = best_split(X, y, num_pct)\n",
    "    \n",
    "    # Guardar el árbol y estimar la predicción\n",
    "    y_pred = y.mean()\n",
    "    y_prob = (y.sum() + 1.0) / (y.shape[0] + 2.0)  # Corrección Laplace \n",
    "    \n",
    "    tree = dict(y_pred=y_pred, y_prob=y_prob, level=level, split=-1, n_samples=X.shape[0], gain=gain)\n",
    "    # Revisar el criterio de parada \n",
    "    if gain < min_gain:\n",
    "        return tree\n",
    "    if max_depth is not None:\n",
    "        if level >= max_depth:\n",
    "            return tree   \n",
    "    \n",
    "    # Continuar creando la partición\n",
    "    filter_l = X.iloc[:, j] < split\n",
    "    X_l, y_l = X.loc[filter_l], y.loc[filter_l]\n",
    "    X_r, y_r = X.loc[~filter_l], y.loc[~filter_l]\n",
    "    tree['split'] = [j, split]\n",
    "\n",
    "    # Siguiente iteración para cada partición\n",
    "    tree['sl'] = tree_grow(X_l, y_l, level + 1, min_gain=min_gain, max_depth=max_depth, num_pct=num_pct)\n",
    "    tree['sr'] = tree_grow(X_r, y_r, level + 1, min_gain=min_gain, max_depth=max_depth, num_pct=num_pct)\n",
    "    \n",
    "    return tree\n",
    "\n",
    "\n",
    "# Definición de la función tree_predict para hacer predicciones según las variables 'X' y el árbol 'tree'\n",
    "def tree_predict(X, tree):\n",
    "    \n",
    "    predicted = np.ones(X.shape[0])\n",
    "\n",
    "    # Revisar si es el nodo final\n",
    "    if tree['split'] == -1:\n",
    "        predicted = predicted * tree['y_pred']\n",
    "\n",
    "    else:\n",
    "        j, split = tree['split']\n",
    "        filter_l = (X.iloc[:, j] < split)\n",
    "        predicted[filter_l] = tree_predict(X.loc[filter_l], tree['sl'])\n",
    "        predicted[~filter_l] = tree_predict(X.loc[~filter_l], tree['sr'])\n",
    "\n",
    "    return predicted\n",
    "\n",
    "\n",
    "# Definición de la función contador_nodos para contar el número de nodos en el árbol\n",
    "def contador_nodos(tree):\n",
    "    if tree['split'] == -1:\n",
    "        return 1\n",
    "    return contador_nodos(tree['sl']) + contador_nodos(tree['sr'])\n",
    "\n",
    "\n",
    "# Entrenamiento y prediccion del árbol de decisión\n",
    "tree = tree_grow(X_train_tree, y_train_tree, max_depth=21, min_gain=0.0001, num_pct=10)\n",
    "y_pred_tree = tree_predict(X_test_tree, tree)\n",
    "\n",
    "# Evaluación del árbol de decisión\n",
    "mse_tree = mean_squared_error(y_test_tree, y_pred_tree)\n",
    "rmse_tree = np.sqrt(mse_tree)\n",
    "r2_tree = r2_score(y_test_tree, y_pred_tree)\n",
    "mae_tree = np.mean(np.abs(y_test_tree - y_pred_tree))\n",
    "n_nodos = contador_nodos(tree)\n",
    "\n",
    "print(\"Resultados del árbol de decisión:\")\n",
    "print(f\"Error cuadrático medio (MSE): {mse_tree:.4f}\")\n",
    "print(f\"RMSE: {rmse_tree:.4f}\")\n",
    "print(f\"MAE: {mae_tree:.4f}\")\n",
    "print(f\"R^2: {r2_tree:.4f}\")\n",
    "print(f\"Número de nodos: {n_nodos}\")"
   ]
  },
  {
   "cell_type": "markdown",
   "metadata": {},
   "source": [
    "### Punto 5 - Árbol de decisión con librería\n",
    "En la celda 5 entrene un árbol de decisiones con la **librería sklearn**, usando las variables predictoras \"season\" y \"hour\" y calibre los parámetros que considere conveniente para obtener un mejor desempeño. Recuerde dividir los datos en conjuntos de entrenamiento y validación para esto. Comente el desempeño del modelo con alguna métrica de desempeño de modelos de regresión y compare desempeño con el modelo del punto 3."
   ]
  },
  {
   "cell_type": "code",
   "execution_count": 148,
   "metadata": {},
   "outputs": [
    {
     "name": "stdout",
     "output_type": "stream",
     "text": [
      "\n",
      "Resultados del árbol de decisión con sklearn:\n",
      "Error cuadrático medio (MSE): 13825.1416\n",
      "RMSE: 117.5804\n",
      "MAE: 79.4916\n",
      "R^2: 0.5751\n",
      "Número de nodos: 157\n",
      "Profundidad máxima: 8\n"
     ]
    },
    {
     "data": {
      "image/png": "[encoded data removed]",
      "text/plain": [
       "<Figure size 640x480 with 1 Axes>"
      ]
     },
     "metadata": {},
     "output_type": "display_data"
    }
   ],
   "source": [
    "# Celda 5\n",
    "# Definición de variables, parámetros y criterios de parada\n",
    "X_tree = bikes[['season', 'hour']]\n",
    "X_tree = pd.get_dummies(X_tree, columns=['season'], drop_first=True)\n",
    "X_tree = X_tree.astype(float)\n",
    "y_tree = bikes['total']\n",
    "\n",
    "\n",
    "# Separacion de datos entre entrenamiento y prueba\n",
    "X_train_tree, X_test_tree, y_train_tree, y_test_tree = train_test_split(X_tree, y_tree, test_size=0.3, random_state=42)\n",
    "\n",
    "\n",
    "# Lista de valores para calibrar el criterio de parada de máxima profundidad (max_depth)\n",
    "max_depth_range = range(1, 21)\n",
    "rmse_scores = []\n",
    "\n",
    "\n",
    "# Loop para obtener el desempeño del modelo de acuerdo con la máxima profundidad\n",
    "for depth in max_depth_range:\n",
    "    clf = DecisionTreeRegressor(max_depth=depth, random_state=1)\n",
    "    mse = -cross_val_score(clf, X_train_tree, y_train_tree, cv=10, scoring='neg_mean_squared_error').mean()\n",
    "    rmse = np.sqrt(mse)\n",
    "    rmse_scores.append(rmse)\n",
    "\n",
    "    \n",
    "# Entrenamiento y prediccion del árbol de decisión\n",
    "mejor_depth = max_depth_range[np.argmin(rmse_scores)]\n",
    "clf_final = DecisionTreeRegressor(max_depth=mejor_depth, random_state=1)\n",
    "clf_final.fit(X_train_tree, y_train_tree)\n",
    "y_pred_tree = clf_final.predict(X_test_tree)\n",
    "\n",
    "# Evaluación del árbol de decisión\n",
    "mse_tree = mean_squared_error(y_test_tree, y_pred_tree)\n",
    "rmse_tree = np.sqrt(mean_squared_error(y_test_tree, y_pred_tree))\n",
    "mae_tree = mean_absolute_error(y_test_tree, y_pred_tree)\n",
    "r2_tree = r2_score(y_test_tree, y_pred_tree)\n",
    "n_nodos = clf_final.tree_.node_count\n",
    "\n",
    "print(\"\\nResultados del árbol de decisión con sklearn:\")\n",
    "print(f\"Error cuadrático medio (MSE): {mse_tree:.4f}\")\n",
    "print(f\"RMSE: {rmse_tree:.4f}\")\n",
    "print(f\"MAE: {mae_tree:.4f}\")\n",
    "print(f\"R^2: {r2_tree:.4f}\")\n",
    "print(f\"Número de nodos: {n_nodos}\")\n",
    "print(f\"Profundidad máxima: {mejor_depth}\")\n",
    "\n",
    "# Gráfica max_depth versus RMSE (error del modelo)\n",
    "plt.plot(max_depth_range, rmse_scores, marker='o')\n",
    "plt.title('max_depth vs RMSE')\n",
    "plt.xlabel('max_depth')\n",
    "plt.ylabel('RMSE')\n",
    "plt.grid(True)\n",
    "plt.tight_layout()\n",
    "plt.show()"
   ]
  },
  {
   "cell_type": "markdown",
   "metadata": {},
   "source": [
    "#### **Comparativa del desempeño frente al modelo de regresion lineal del punto 3**"
   ]
  },
  {
   "cell_type": "code",
   "execution_count": 147,
   "metadata": {},
   "outputs": [
    {
     "name": "stdout",
     "output_type": "stream",
     "text": [
      "\n",
      "Comparativa de resultados entre modelos:\n",
      "Modelo de regresión lineal - RMSE: 159.9757, MAE: 119.1172, R^2: 0.2135\n",
      "Modelo de árbol de decisión - RMSE: 117.5804, MAE: 79.4916, R^2: 0.5751\n"
     ]
    }
   ],
   "source": [
    "# Comparativa de resultados entre modelos\n",
    "print(\"\\nComparativa de resultados entre modelos:\")\n",
    "print(f\"Modelo de regresión lineal - RMSE: {rmse_lineal:.4f}, MAE: {mae_lineal:.4f}, R^2: {r2_lineal:.4f}\")\n",
    "print(f\"Modelo de árbol de decisión - RMSE: {rmse_tree:.4f}, MAE: {mae_tree:.4f}, R^2: {r2_tree:.4f}\")\n"
   ]
  },
  {
   "cell_type": "markdown",
   "metadata": {},
   "source": [
    "**Comparación de desempeño**:\n",
    "  * El modelo de árbol de regresión obtiene un RMSE de 117.58, lo que indica que, en promedio, el error en la predicción del número de bicicletas rentadas es de aproximadamente 118 unidades\n",
    "  * En contraste, la regresión lineal presenta un RMSE significativamente mayor de 159.98, mostrando predicciones  menos precisas\n",
    "  * Al evaluar el coeficiente de determinacion R2 el árbol de regresión alcanza un valor de 0.575, lo que significa que explica el 57.5% de la variabilidad observada en la demanda de bicicletas.\n",
    "  * Por su parte, el modelo de regresión lineal alcanza un R2 de 0.213, es decir que solo el 21.3% de la variabilidad es explicada por el modelo\n",
    "  * Así entonces, **el arbol de decisión ofrece un mejor desempeño que la regresión lineal, tanto en términos de error absoluto promedio como en la capacidad explicativa del modelo**. Esto puede ser porque la relación entre las variable 'total', 'hour' y 'season' puede no ser completamente lineal"
   ]
  },
  {
   "cell_type": "markdown",
   "metadata": {},
   "source": [
    "## Parte B - Métodos de ensamblajes\n",
    "En esta parte del taller se usará el conjunto de datos de Popularidad de Noticias Online. El objetivo es predecir si la notica es popular o no, la popularidad está dada por la cantidad de reacciones en redes sociales. Para más detalles puede visitar el siguiente enlace: [datos](https://archive.ics.uci.edu/ml/datasets/online+news+popularity)."
   ]
  },
  {
   "cell_type": "markdown",
   "metadata": {},
   "source": [
    "### Datos popularidad de noticias"
   ]
  },
  {
   "cell_type": "code",
   "execution_count": 149,
   "metadata": {},
   "outputs": [
    {
     "data": {
      "application/vnd.microsoft.datawrangler.viewer.v0+json": {
       "columns": [
        {
         "name": "index",
         "rawType": "int64",
         "type": "integer"
        },
        {
         "name": "url",
         "rawType": "object",
         "type": "string"
        },
        {
         "name": "timedelta",
         "rawType": "float64",
         "type": "float"
        },
        {
         "name": "n_tokens_title",
         "rawType": "float64",
         "type": "float"
        },
        {
         "name": "n_tokens_content",
         "rawType": "float64",
         "type": "float"
        },
        {
         "name": "n_unique_tokens",
         "rawType": "float64",
         "type": "float"
        },
        {
         "name": "n_non_stop_words",
         "rawType": "float64",
         "type": "float"
        },
        {
         "name": "n_non_stop_unique_tokens",
         "rawType": "float64",
         "type": "float"
        },
        {
         "name": "num_hrefs",
         "rawType": "float64",
         "type": "float"
        },
        {
         "name": "num_self_hrefs",
         "rawType": "float64",
         "type": "float"
        },
        {
         "name": "num_imgs",
         "rawType": "float64",
         "type": "float"
        },
        {
         "name": "num_videos",
         "rawType": "float64",
         "type": "float"
        },
        {
         "name": "average_token_length",
         "rawType": "float64",
         "type": "float"
        },
        {
         "name": "num_keywords",
         "rawType": "float64",
         "type": "float"
        },
        {
         "name": "data_channel_is_lifestyle",
         "rawType": "float64",
         "type": "float"
        },
        {
         "name": "data_channel_is_entertainment",
         "rawType": "float64",
         "type": "float"
        },
        {
         "name": "data_channel_is_bus",
         "rawType": "float64",
         "type": "float"
        },
        {
         "name": "data_channel_is_socmed",
         "rawType": "float64",
         "type": "float"
        },
        {
         "name": "data_channel_is_tech",
         "rawType": "float64",
         "type": "float"
        },
        {
         "name": "data_channel_is_world",
         "rawType": "float64",
         "type": "float"
        },
        {
         "name": "kw_min_min",
         "rawType": "float64",
         "type": "float"
        },
        {
         "name": "kw_max_min",
         "rawType": "float64",
         "type": "float"
        },
        {
         "name": "kw_avg_min",
         "rawType": "float64",
         "type": "float"
        },
        {
         "name": "kw_min_max",
         "rawType": "float64",
         "type": "float"
        },
        {
         "name": "kw_max_max",
         "rawType": "float64",
         "type": "float"
        },
        {
         "name": "kw_avg_max",
         "rawType": "float64",
         "type": "float"
        },
        {
         "name": "kw_min_avg",
         "rawType": "float64",
         "type": "float"
        },
        {
         "name": "kw_max_avg",
         "rawType": "float64",
         "type": "float"
        },
        {
         "name": "kw_avg_avg",
         "rawType": "float64",
         "type": "float"
        },
        {
         "name": "self_reference_min_shares",
         "rawType": "float64",
         "type": "float"
        },
        {
         "name": "self_reference_max_shares",
         "rawType": "float64",
         "type": "float"
        },
        {
         "name": "self_reference_avg_sharess",
         "rawType": "float64",
         "type": "float"
        },
        {
         "name": "weekday_is_monday",
         "rawType": "float64",
         "type": "float"
        },
        {
         "name": "weekday_is_tuesday",
         "rawType": "float64",
         "type": "float"
        },
        {
         "name": "weekday_is_wednesday",
         "rawType": "float64",
         "type": "float"
        },
        {
         "name": "weekday_is_thursday",
         "rawType": "float64",
         "type": "float"
        },
        {
         "name": "weekday_is_friday",
         "rawType": "float64",
         "type": "float"
        },
        {
         "name": "weekday_is_saturday",
         "rawType": "float64",
         "type": "float"
        },
        {
         "name": "weekday_is_sunday",
         "rawType": "float64",
         "type": "float"
        },
        {
         "name": "is_weekend",
         "rawType": "float64",
         "type": "float"
        },
        {
         "name": "LDA_00",
         "rawType": "float64",
         "type": "float"
        },
        {
         "name": "LDA_01",
         "rawType": "float64",
         "type": "float"
        },
        {
         "name": "LDA_02",
         "rawType": "float64",
         "type": "float"
        },
        {
         "name": "LDA_03",
         "rawType": "float64",
         "type": "float"
        },
        {
         "name": "LDA_04",
         "rawType": "float64",
         "type": "float"
        },
        {
         "name": "global_subjectivity",
         "rawType": "float64",
         "type": "float"
        },
        {
         "name": "global_sentiment_polarity",
         "rawType": "float64",
         "type": "float"
        },
        {
         "name": "global_rate_positive_words",
         "rawType": "float64",
         "type": "float"
        },
        {
         "name": "global_rate_negative_words",
         "rawType": "float64",
         "type": "float"
        },
        {
         "name": "rate_positive_words",
         "rawType": "float64",
         "type": "float"
        },
        {
         "name": "rate_negative_words",
         "rawType": "float64",
         "type": "float"
        },
        {
         "name": "avg_positive_polarity",
         "rawType": "float64",
         "type": "float"
        },
        {
         "name": "min_positive_polarity",
         "rawType": "float64",
         "type": "float"
        },
        {
         "name": "max_positive_polarity",
         "rawType": "float64",
         "type": "float"
        },
        {
         "name": "avg_negative_polarity",
         "rawType": "float64",
         "type": "float"
        },
        {
         "name": "min_negative_polarity",
         "rawType": "float64",
         "type": "float"
        },
        {
         "name": "max_negative_polarity",
         "rawType": "float64",
         "type": "float"
        },
        {
         "name": "title_subjectivity",
         "rawType": "float64",
         "type": "float"
        },
        {
         "name": "title_sentiment_polarity",
         "rawType": "float64",
         "type": "float"
        },
        {
         "name": "abs_title_subjectivity",
         "rawType": "float64",
         "type": "float"
        },
        {
         "name": "abs_title_sentiment_polarity",
         "rawType": "float64",
         "type": "float"
        },
        {
         "name": "Popular",
         "rawType": "int64",
         "type": "integer"
        }
       ],
       "conversionMethod": "pd.DataFrame",
       "ref": "6f354524-1802-41bb-b905-5fc04baa437b",
       "rows": [
        [
         "0",
         "http://mashable.com/2014/12/10/cia-torture-report-whats-next/",
         "28.0",
         "9.0",
         "188.0",
         "0.732620316938",
         "0.999999991803",
         "0.844262288162",
         "5.0",
         "1.0",
         "1.0",
         "2.0",
         "4.70212765957",
         "7.0",
         "0.0",
         "0.0",
         "0.0",
         "0.0",
         "0.0",
         "0.0",
         "-1.0",
         "1300.0",
         "259.718",
         "0.0",
         "843300.0",
         "482257.142857",
         "0.0",
         "6963.95429169",
         "3415.94332189",
         "4500.0",
         "4500.0",
         "4500.0",
         "0.0",
         "0.0",
         "0.0",
         "1.0",
         "0.0",
         "0.0",
         "0.0",
         "0.0",
         "0.0285816612128",
         "0.0285940915781",
         "0.0285782015427",
         "0.7456731915279999",
         "0.168572854139",
         "0.62537593985",
         "0.144736842105",
         "0.0531914893617",
         "0.0212765957447",
         "0.714285714286",
         "0.285714285714",
         "0.47",
         "0.2",
         "0.8",
         "-0.4875",
         "-0.6",
         "-0.25",
         "0.9",
         "0.8",
         "0.4",
         "0.8",
         "1"
        ],
        [
         "1",
         "http://mashable.com/2013/10/18/bitlock-kickstarter/",
         "447.0",
         "7.0",
         "297.0",
         "0.653198650999",
         "0.999999994737",
         "0.8157894693909999",
         "9.0",
         "4.0",
         "1.0",
         "0.0",
         "5.0101010101",
         "8.0",
         "0.0",
         "0.0",
         "0.0",
         "0.0",
         "1.0",
         "0.0",
         "4.0",
         "919.0",
         "250.142857143",
         "0.0",
         "843300.0",
         "142712.5",
         "0.0",
         "4429.75",
         "2610.94105034",
         "928.0",
         "928.0",
         "928.0",
         "0.0",
         "0.0",
         "0.0",
         "0.0",
         "1.0",
         "0.0",
         "0.0",
         "0.0",
         "0.0270977062056",
         "0.0250055216099",
         "0.276713035146",
         "0.02500307759",
         "0.6461806594489999",
         "0.376438746439",
         "0.0565740740740999",
         "0.030303030303",
         "0.030303030303",
         "0.5",
         "0.5",
         "0.342777777778",
         "0.16",
         "0.5",
         "-0.135339506173",
         "-0.4",
         "-0.05",
         "0.1",
         "-0.1",
         "0.4",
         "0.1",
         "0"
        ],
        [
         "2",
         "http://mashable.com/2013/07/24/google-glass-porn-clip/",
         "533.0",
         "11.0",
         "181.0",
         "0.6603773543370001",
         "0.999999990654",
         "0.77570092733",
         "4.0",
         "3.0",
         "1.0",
         "0.0",
         "3.97237569061",
         "6.0",
         "0.0",
         "0.0",
         "0.0",
         "0.0",
         "1.0",
         "0.0",
         "4.0",
         "791.0",
         "205.666666667",
         "4800.0",
         "843300.0",
         "229066.666667",
         "2440.825",
         "3300.69831488",
         "2895.51630887",
         "1300.0",
         "1300.0",
         "1300.0",
         "0.0",
         "0.0",
         "1.0",
         "0.0",
         "0.0",
         "0.0",
         "0.0",
         "0.0",
         "0.0334992436448",
         "0.200063181284",
         "0.0334105269331",
         "0.0333338616252",
         "0.6996931865129999",
         "0.4625",
         "0.535795454545",
         "0.0497237569061",
         "0.0",
         "1.0",
         "0.0",
         "0.516262626263",
         "0.1363636363639999",
         "1.0",
         "0.0",
         "0.0",
         "0.0",
         "0.3",
         "1.0",
         "0.2",
         "1.0",
         "0"
        ],
        [
         "3",
         "http://mashable.com/2013/11/21/these-are-the-most-shared-ads-of-2013/",
         "413.0",
         "12.0",
         "781.0",
         "0.4974093257810001",
         "0.999999997863",
         "0.677350425903",
         "10.0",
         "3.0",
         "1.0",
         "0.0",
         "4.46734955186",
         "7.0",
         "0.0",
         "0.0",
         "1.0",
         "0.0",
         "0.0",
         "0.0",
         "4.0",
         "1200.0",
         "280.8",
         "0.0",
         "843300.0",
         "335642.857143",
         "0.0",
         "4415.72268908",
         "2103.9717874000007",
         "0.0",
         "0.0",
         "0.0",
         "0.0",
         "0.0",
         "0.0",
         "1.0",
         "0.0",
         "0.0",
         "0.0",
         "0.0",
         "0.457963104356",
         "0.0285800265126",
         "0.456140264367",
         "0.0286266110442",
         "0.0286899937199",
         "0.425314180769",
         "0.0910163321527",
         "0.0307298335467",
         "0.0230473751601",
         "0.5714285714289999",
         "0.428571428571",
         "0.436654040404",
         "0.1",
         "1.0",
         "-0.195701058201",
         "-0.4",
         "-0.0714285714286",
         "0.0",
         "0.0",
         "0.5",
         "0.0",
         "0"
        ],
        [
         "4",
         "http://mashable.com/2014/02/11/parking-ticket-prank/",
         "331.0",
         "8.0",
         "177.0",
         "0.685714281796",
         "0.999999991071",
         "0.830357135443",
         "3.0",
         "2.0",
         "1.0",
         "0.0",
         "5.146892655369999",
         "4.0",
         "0.0",
         "0.0",
         "0.0",
         "1.0",
         "0.0",
         "0.0",
         "-1.0",
         "935.0",
         "268.25",
         "1700.0",
         "843300.0",
         "258100.0",
         "1218.11111111",
         "3588.79019432",
         "2809.37418115",
         "2400.0",
         "8200.0",
         "5300.0",
         "0.0",
         "1.0",
         "0.0",
         "0.0",
         "0.0",
         "0.0",
         "0.0",
         "0.0",
         "0.0511206466931",
         "0.050013976381",
         "0.050166712059",
         "0.0500032814207",
         "0.7986953834460001",
         "0.370238095238",
         "0.148214285714",
         "0.0395480225989",
         "0.0112994350282",
         "0.777777777778",
         "0.222222222222",
         "0.346428571429",
         "0.1",
         "0.55",
         "-0.175",
         "-0.25",
         "-0.1",
         "0.0",
         "0.0",
         "0.5",
         "0.0",
         "0"
        ]
       ],
       "shape": {
        "columns": 61,
        "rows": 5
       }
      },
      "text/html": [
       "<div>\n",
       "<style scoped>\n",
       "    .dataframe tbody tr th:only-of-type {\n",
       "        vertical-align: middle;\n",
       "    }\n",
       "\n",
       "    .dataframe tbody tr th {\n",
       "        vertical-align: top;\n",
       "    }\n",
       "\n",
       "    .dataframe thead th {\n",
       "        text-align: right;\n",
       "    }\n",
       "</style>\n",
       "<table border=\"1\" class=\"dataframe\">\n",
       "  <thead>\n",
       "    <tr style=\"text-align: right;\">\n",
       "      <th></th>\n",
       "      <th>url</th>\n",
       "      <th>timedelta</th>\n",
       "      <th>n_tokens_title</th>\n",
       "      <th>n_tokens_content</th>\n",
       "      <th>n_unique_tokens</th>\n",
       "      <th>n_non_stop_words</th>\n",
       "      <th>n_non_stop_unique_tokens</th>\n",
       "      <th>num_hrefs</th>\n",
       "      <th>num_self_hrefs</th>\n",
       "      <th>num_imgs</th>\n",
       "      <th>...</th>\n",
       "      <th>min_positive_polarity</th>\n",
       "      <th>max_positive_polarity</th>\n",
       "      <th>avg_negative_polarity</th>\n",
       "      <th>min_negative_polarity</th>\n",
       "      <th>max_negative_polarity</th>\n",
       "      <th>title_subjectivity</th>\n",
       "      <th>title_sentiment_polarity</th>\n",
       "      <th>abs_title_subjectivity</th>\n",
       "      <th>abs_title_sentiment_polarity</th>\n",
       "      <th>Popular</th>\n",
       "    </tr>\n",
       "  </thead>\n",
       "  <tbody>\n",
       "    <tr>\n",
       "      <th>0</th>\n",
       "      <td>http://mashable.com/2014/12/10/cia-torture-rep...</td>\n",
       "      <td>28.0</td>\n",
       "      <td>9.0</td>\n",
       "      <td>188.0</td>\n",
       "      <td>0.732620</td>\n",
       "      <td>1.0</td>\n",
       "      <td>0.844262</td>\n",
       "      <td>5.0</td>\n",
       "      <td>1.0</td>\n",
       "      <td>1.0</td>\n",
       "      <td>...</td>\n",
       "      <td>0.200000</td>\n",
       "      <td>0.80</td>\n",
       "      <td>-0.487500</td>\n",
       "      <td>-0.60</td>\n",
       "      <td>-0.250000</td>\n",
       "      <td>0.9</td>\n",
       "      <td>0.8</td>\n",
       "      <td>0.4</td>\n",
       "      <td>0.8</td>\n",
       "      <td>1</td>\n",
       "    </tr>\n",
       "    <tr>\n",
       "      <th>1</th>\n",
       "      <td>http://mashable.com/2013/10/18/bitlock-kicksta...</td>\n",
       "      <td>447.0</td>\n",
       "      <td>7.0</td>\n",
       "      <td>297.0</td>\n",
       "      <td>0.653199</td>\n",
       "      <td>1.0</td>\n",
       "      <td>0.815789</td>\n",
       "      <td>9.0</td>\n",
       "      <td>4.0</td>\n",
       "      <td>1.0</td>\n",
       "      <td>...</td>\n",
       "      <td>0.160000</td>\n",
       "      <td>0.50</td>\n",
       "      <td>-0.135340</td>\n",
       "      <td>-0.40</td>\n",
       "      <td>-0.050000</td>\n",
       "      <td>0.1</td>\n",
       "      <td>-0.1</td>\n",
       "      <td>0.4</td>\n",
       "      <td>0.1</td>\n",
       "      <td>0</td>\n",
       "    </tr>\n",
       "    <tr>\n",
       "      <th>2</th>\n",
       "      <td>http://mashable.com/2013/07/24/google-glass-po...</td>\n",
       "      <td>533.0</td>\n",
       "      <td>11.0</td>\n",
       "      <td>181.0</td>\n",
       "      <td>0.660377</td>\n",
       "      <td>1.0</td>\n",
       "      <td>0.775701</td>\n",
       "      <td>4.0</td>\n",
       "      <td>3.0</td>\n",
       "      <td>1.0</td>\n",
       "      <td>...</td>\n",
       "      <td>0.136364</td>\n",
       "      <td>1.00</td>\n",
       "      <td>0.000000</td>\n",
       "      <td>0.00</td>\n",
       "      <td>0.000000</td>\n",
       "      <td>0.3</td>\n",
       "      <td>1.0</td>\n",
       "      <td>0.2</td>\n",
       "      <td>1.0</td>\n",
       "      <td>0</td>\n",
       "    </tr>\n",
       "    <tr>\n",
       "      <th>3</th>\n",
       "      <td>http://mashable.com/2013/11/21/these-are-the-m...</td>\n",
       "      <td>413.0</td>\n",
       "      <td>12.0</td>\n",
       "      <td>781.0</td>\n",
       "      <td>0.497409</td>\n",
       "      <td>1.0</td>\n",
       "      <td>0.677350</td>\n",
       "      <td>10.0</td>\n",
       "      <td>3.0</td>\n",
       "      <td>1.0</td>\n",
       "      <td>...</td>\n",
       "      <td>0.100000</td>\n",
       "      <td>1.00</td>\n",
       "      <td>-0.195701</td>\n",
       "      <td>-0.40</td>\n",
       "      <td>-0.071429</td>\n",
       "      <td>0.0</td>\n",
       "      <td>0.0</td>\n",
       "      <td>0.5</td>\n",
       "      <td>0.0</td>\n",
       "      <td>0</td>\n",
       "    </tr>\n",
       "    <tr>\n",
       "      <th>4</th>\n",
       "      <td>http://mashable.com/2014/02/11/parking-ticket-...</td>\n",
       "      <td>331.0</td>\n",
       "      <td>8.0</td>\n",
       "      <td>177.0</td>\n",
       "      <td>0.685714</td>\n",
       "      <td>1.0</td>\n",
       "      <td>0.830357</td>\n",
       "      <td>3.0</td>\n",
       "      <td>2.0</td>\n",
       "      <td>1.0</td>\n",
       "      <td>...</td>\n",
       "      <td>0.100000</td>\n",
       "      <td>0.55</td>\n",
       "      <td>-0.175000</td>\n",
       "      <td>-0.25</td>\n",
       "      <td>-0.100000</td>\n",
       "      <td>0.0</td>\n",
       "      <td>0.0</td>\n",
       "      <td>0.5</td>\n",
       "      <td>0.0</td>\n",
       "      <td>0</td>\n",
       "    </tr>\n",
       "  </tbody>\n",
       "</table>\n",
       "<p>5 rows × 61 columns</p>\n",
       "</div>"
      ],
      "text/plain": [
       "                                                 url  timedelta  \\\n",
       "0  http://mashable.com/2014/12/10/cia-torture-rep...       28.0   \n",
       "1  http://mashable.com/2013/10/18/bitlock-kicksta...      447.0   \n",
       "2  http://mashable.com/2013/07/24/google-glass-po...      533.0   \n",
       "3  http://mashable.com/2013/11/21/these-are-the-m...      413.0   \n",
       "4  http://mashable.com/2014/02/11/parking-ticket-...      331.0   \n",
       "\n",
       "   n_tokens_title  n_tokens_content  n_unique_tokens  n_non_stop_words  \\\n",
       "0             9.0             188.0         0.732620               1.0   \n",
       "1             7.0             297.0         0.653199               1.0   \n",
       "2            11.0             181.0         0.660377               1.0   \n",
       "3            12.0             781.0         0.497409               1.0   \n",
       "4             8.0             177.0         0.685714               1.0   \n",
       "\n",
       "   n_non_stop_unique_tokens  num_hrefs  num_self_hrefs  num_imgs  ...  \\\n",
       "0                  0.844262        5.0             1.0       1.0  ...   \n",
       "1                  0.815789        9.0             4.0       1.0  ...   \n",
       "2                  0.775701        4.0             3.0       1.0  ...   \n",
       "3                  0.677350       10.0             3.0       1.0  ...   \n",
       "4                  0.830357        3.0             2.0       1.0  ...   \n",
       "\n",
       "   min_positive_polarity  max_positive_polarity  avg_negative_polarity  \\\n",
       "0               0.200000                   0.80              -0.487500   \n",
       "1               0.160000                   0.50              -0.135340   \n",
       "2               0.136364                   1.00               0.000000   \n",
       "3               0.100000                   1.00              -0.195701   \n",
       "4               0.100000                   0.55              -0.175000   \n",
       "\n",
       "   min_negative_polarity  max_negative_polarity  title_subjectivity  \\\n",
       "0                  -0.60              -0.250000                 0.9   \n",
       "1                  -0.40              -0.050000                 0.1   \n",
       "2                   0.00               0.000000                 0.3   \n",
       "3                  -0.40              -0.071429                 0.0   \n",
       "4                  -0.25              -0.100000                 0.0   \n",
       "\n",
       "   title_sentiment_polarity  abs_title_subjectivity  \\\n",
       "0                       0.8                     0.4   \n",
       "1                      -0.1                     0.4   \n",
       "2                       1.0                     0.2   \n",
       "3                       0.0                     0.5   \n",
       "4                       0.0                     0.5   \n",
       "\n",
       "   abs_title_sentiment_polarity  Popular  \n",
       "0                           0.8        1  \n",
       "1                           0.1        0  \n",
       "2                           1.0        0  \n",
       "3                           0.0        0  \n",
       "4                           0.0        0  \n",
       "\n",
       "[5 rows x 61 columns]"
      ]
     },
     "execution_count": 149,
     "metadata": {},
     "output_type": "execute_result"
    }
   ],
   "source": [
    "# Lectura de la información de archivo .csv\n",
    "df = pd.read_csv('https://raw.githubusercontent.com/davidzarruk/MIAD_ML_NLP_2023/main/datasets/mashable.csv', index_col=0)\n",
    "df.head()"
   ]
  },
  {
   "cell_type": "code",
   "execution_count": 163,
   "metadata": {},
   "outputs": [],
   "source": [
    "# Definición variable de interes y variables predictoras\n",
    "X = df.drop(['url', 'Popular'], axis=1)\n",
    "y = df['Popular']"
   ]
  },
  {
   "cell_type": "code",
   "execution_count": 164,
   "metadata": {},
   "outputs": [],
   "source": [
    "# División de la muestra en set de entrenamiento y prueba\n",
    "X_train, X_test, y_train, y_test = train_test_split(X, y, test_size=0.3, random_state=1)"
   ]
  },
  {
   "cell_type": "markdown",
   "metadata": {},
   "source": [
    "### Punto 6 - Árbol de decisión y regresión logística\n",
    "En la celda 6 construya un árbol de decisión y una regresión logística. Para el árbol calibre al menos un parámetro y evalúe el desempeño de cada modelo usando las métricas de Accuracy y F1-Score."
   ]
  },
  {
   "cell_type": "code",
   "execution_count": 165,
   "metadata": {},
   "outputs": [
    {
     "name": "stdout",
     "output_type": "stream",
     "text": [
      "\n",
      "Resultados del modelo de regresión logística:\n",
      "Accuracy: 0.6200\n",
      "F1 Score: 0.6069\n",
      "Confusion Matrix:\n",
      "[[588 303]\n",
      " [381 528]]\n",
      "\n",
      "Resultados del modelo de árbol de decisión:\n",
      "Accuracy: 0.6533\n",
      "F1 Score: 0.6537\n",
      "Confusion Matrix:\n",
      "[[587 304]\n",
      " [320 589]]\n"
     ]
    }
   ],
   "source": [
    "# Celda 6\n",
    "# Regresion logistica\n",
    "log_reg = LogisticRegression(max_iter=1000, random_state=1)\n",
    "log_reg.fit(X_train, y_train)\n",
    "y_pred_log = log_reg.predict(X_test)\n",
    "\n",
    "# Arbol de decision\n",
    "# Calibracion de hiperparametro max_depth\n",
    "param_grid = {'max_depth': range(1, 21)}\n",
    "grid_search = GridSearchCV(DecisionTreeClassifier(random_state=1), param_grid, cv=10, scoring='accuracy')\n",
    "grid_search.fit(X_train, y_train)\n",
    "\n",
    "# Mejor modelo\n",
    "tree_clf = grid_search.best_estimator_\n",
    "y_pred_tree = tree_clf.predict(X_test)\n",
    "\n",
    "# Evaluación de los modelos\n",
    "print(\"\\nResultados del modelo de regresión logística:\")\n",
    "print(f\"Accuracy: {accuracy_score(y_test, y_pred_log):.4f}\")\n",
    "print(f\"F1 Score: {f1_score(y_test, y_pred_log):.4f}\")\n",
    "print(f\"Confusion Matrix:\\n{confusion_matrix(y_test, y_pred_log)}\")\n",
    "\n",
    "print(\"\\nResultados del modelo de árbol de decisión:\")\n",
    "print(f\"Accuracy: {accuracy_score(y_test, y_pred_tree):.4f}\")\n",
    "print(f\"F1 Score: {f1_score(y_test, y_pred_tree):.4f}\")\n",
    "print(f\"Confusion Matrix:\\n{confusion_matrix(y_test, y_pred_tree)}\")\n"
   ]
  },
  {
   "cell_type": "markdown",
   "metadata": {},
   "source": [
    "#### **Comparación de desempeño entre modelos**:\n",
    "  * Accuracy: el árbol de decisión (65.33%) supera a la regresión logística (62.00%), indicando mejor desempeño general en clasificación\n",
    "  * F1 Score: el árbol muestra mejor equilibrio entre precisión y recall que la regresión logística (0.6537 vs. 0.6069)\n",
    "  * Matriz de confusión: el árbol de decisión predice menos falsos negativos (320 vs. 381), lo que indica mejor capacidad para identificar casos positivos\n",
    "  * **El árbol de decisión tiene un mejor rendimiento comparado a la regresión logística**"
   ]
  },
  {
   "cell_type": "markdown",
   "metadata": {},
   "source": [
    "### Punto 7 - Votación Mayoritaria\n",
    "En la celda 7 elabore un esamble con la metodología de **Votación mayoritaria** compuesto por 300 muestras bagged donde:\n",
    "\n",
    "-las primeras 100 muestras vienen de árboles de decisión donde max_depth tome un valor de su elección\\\n",
    "-las segundas 100 muestras vienen de árboles de decisión donde min_samples_leaf tome un valor de su elección\\\n",
    "-las últimas 100 muestras vienen de regresiones logísticas\n",
    "\n",
    "Evalúe cada uno de los tres modelos de manera independiente utilizando las métricas de Accuracy y F1-Score, luego evalúe el ensamble de modelos y compare los resultados. \n",
    "\n",
    "Nota: \n",
    "\n",
    "Para este ensamble de 300 modelos, deben hacer votación mayoritaria. Esto lo pueden hacer de distintas maneras. La más \"fácil\" es haciendo la votación \"manualmente\", como se hace a partir del minuto 5:45 del video de Ejemplo práctico de emsablajes en Coursera. Digo que es la más fácil porque si hacen la votación mayoritaria sobre las 300 predicciones van a obtener lo que se espera.\n",
    "\n",
    "Otra opción es: para cada uno de los 3 tipos de modelos, entrenar un ensamble de 100 modelos cada uno. Predecir para cada uno de esos tres ensambles y luego predecir como un ensamble de los 3 ensambles. La cuestión es que la votación mayoritaria al usar los 3 ensambles no necesariamente va a generar el mismo resultado que si hacen la votación mayoritaria directamente sobre los 300 modelos. Entonces, para los que quieran hacer esto, deben hacer ese último cálculo con cuidado.\n",
    "\n",
    "Para los que quieran hacerlo como ensamble de ensambles, digo que se debe hacer el ensamble final con cuidado por lo siguiente. Supongamos que:\n",
    "\n",
    "* para los 100 árboles del primer tipo, la votación mayoritaria es: 55% de los modelos predicen que la clase de una observación es \"1\"\n",
    "* para los 100 árboles del segundo tipo, la votación mayoritaria es: 55% de los modelos predicen que la clase de una observación es \"1\"\n",
    "* para las 100 regresiones logísticas, la votación mayoritaria es: 10% de los modelos predicen que la clase de una observación es \"1\"\n",
    "\n",
    "Si se hace la votación mayoritaria de los 300 modelos, la predicción de esa observación debería ser: (100*55%+100*55%+100*10%)/300 = 40% de los modelos votan porque la predicción debería ser \"1\". Es decir, la predicción del ensamble es \"0\" (dado que menos del 50% de modelos predijo un 1).\n",
    "\n",
    "Sin embargo, si miramos cada ensamble por separado, el primer ensamble predice \"1\", el segundo ensamble predice \"1\" y el último ensamble predice \"0\". Si hago votación mayoritaria sobre esto, la predicción va a ser \"1\", lo cual es distinto a si se hace la votación mayoritaria sobre los 300 modelos."
   ]
  },
  {
   "cell_type": "code",
   "execution_count": null,
   "metadata": {},
   "outputs": [
    {
     "name": "stdout",
     "output_type": "stream",
     "text": [
      "\n",
      "Resultados del modelo de Bagging con árbol de decisión 1:\n",
      "Accuracy: 0.6639\n",
      "F1 Score: 0.6611\n",
      "Confusion Matrix:\n",
      "[[605 286]\n",
      " [319 590]]\n",
      "\n",
      "Resultados del modelo de Bagging con árbol de decisión 2:\n",
      "Accuracy: 0.6511\n",
      "F1 Score: 0.6424\n",
      "Confusion Matrix:\n",
      "[[608 283]\n",
      " [345 564]]\n",
      "\n",
      "Resultados del modelo de Bagging con regresión logística:\n",
      "Accuracy: 0.6222\n",
      "F1 Score: 0.6087\n",
      "Confusion Matrix:\n",
      "[[591 300]\n",
      " [380 529]]\n",
      "\n",
      "Resultados del modelo de Bagging con ensamble:\n",
      "Accuracy: 0.6367\n",
      "F1 Score: 0.6301\n",
      "Confusion Matrix:\n",
      "[[589 302]\n",
      " [352 557]]\n"
     ]
    },
    {
     "data": {
      "image/png": "[encoded data removed]",
      "text/plain": [
       "<Figure size 1000x600 with 1 Axes>"
      ]
     },
     "metadata": {},
     "output_type": "display_data"
    }
   ],
   "source": [
    "# Celda 7\n",
    "# Definicion de modelos\n",
    "tree1 = DecisionTreeClassifier(max_depth=6, random_state=1)\n",
    "tree2 = DecisionTreeClassifier(min_samples_leaf=10, random_state=1)\n",
    "log_reg = LogisticRegression(max_iter=1000, random_state=1)\n",
    "\n",
    "# Bagging de cada modelo con 100 estimadores\n",
    "n_estimators = 100\n",
    "bagged_tree1 = BaggingClassifier(estimator=tree1, n_estimators=n_estimators, random_state=1)\n",
    "bagged_tree2 = BaggingClassifier(estimator=tree2, n_estimators=n_estimators, random_state=2)\n",
    "bagged_log = BaggingClassifier(estimator=log_reg, n_estimators=n_estimators, random_state=3)\n",
    "\n",
    "# Entrenamiento de los modelos\n",
    "bagged_tree1.fit(X_train, y_train)\n",
    "bagged_tree2.fit(X_train, y_train)\n",
    "bagged_log.fit(X_train, y_train)\n",
    "\n",
    "# Predicciones para cada estimador\n",
    "preds_tree1 = np.array([est.predict(X_test) for est in bagged_tree1.estimators_])\n",
    "preds_tree2 = np.array([est.predict(X_test) for est in bagged_tree2.estimators_])\n",
    "preds_log = np.array([est.predict(X_test) for est in bagged_log.estimators_])\n",
    "\n",
    "# Predicciones finales\n",
    "pred_tree1_final = np.round(preds_tree1.mean(axis=0)).astype(int)\n",
    "pred_tree2_final = np.round(preds_tree2.mean(axis=0)).astype(int)\n",
    "pred_log_final = np.round(preds_log.mean(axis=0)).astype(int)\n",
    "\n",
    "# Ensamble de modelos\n",
    "ensamble = np.vstack([preds_tree1, preds_tree2, preds_log]) \n",
    "\n",
    "# Votación mayoritaria\n",
    "y_pred_ensamble = (ensamble.sum(axis=0) >= ((n_estimators*3) / 2)).astype(int)\n",
    "\n",
    "# Evaluación de los modelos\n",
    "print(\"\\nResultados del modelo de Bagging con árbol de decisión 1:\")\n",
    "print(f\"Accuracy: {accuracy_score(y_test, pred_tree1_final):.4f}\")\n",
    "print(f\"F1 Score: {f1_score(y_test, pred_tree1_final):.4f}\")\n",
    "print(f\"Confusion Matrix:\\n{confusion_matrix(y_test, pred_tree1_final)}\")\n",
    "\n",
    "print(\"\\nResultados del modelo de Bagging con árbol de decisión 2:\")\n",
    "print(f\"Accuracy: {accuracy_score(y_test, pred_tree2_final):.4f}\")\n",
    "print(f\"F1 Score: {f1_score(y_test, pred_tree2_final):.4f}\")\n",
    "print(f\"Confusion Matrix:\\n{confusion_matrix(y_test, pred_tree2_final)}\")\n",
    "\n",
    "print(\"\\nResultados del modelo de Bagging con regresión logística:\")\n",
    "print(f\"Accuracy: {accuracy_score(y_test, pred_log_final):.4f}\")\n",
    "print(f\"F1 Score: {f1_score(y_test, pred_log_final):.4f}\")\n",
    "print(f\"Confusion Matrix:\\n{confusion_matrix(y_test, pred_log_final)}\")\n",
    "\n",
    "print(\"\\nResultados del modelo de Bagging con ensamble:\")\n",
    "print(f\"Accuracy: {accuracy_score(y_test, y_pred_ensamble):.4f}\")\n",
    "print(f\"F1 Score: {f1_score(y_test, y_pred_ensamble):.4f}\")\n",
    "print(f\"Confusion Matrix:\\n{confusion_matrix(y_test, y_pred_ensamble)}\")\n",
    "\n",
    "\n",
    "# Gráfica de comparación de resultados\n",
    "plt.figure(figsize=(10, 6))\n",
    "modelos = ['Bagging Tree 1', 'Bagging Tree 2', 'Bagging Log', 'Bagging Ensamble']\n",
    "acc = [accuracy_score(y_test, pred_tree1_final), accuracy_score(y_test, pred_tree2_final), accuracy_score(y_test, pred_log_final), accuracy_score(y_test, y_pred_ensamble)]\n",
    "bars = plt.bar(modelos, acc)\n",
    "for bar in bars:\n",
    "    height = bar.get_height()\n",
    "    plt.text(bar.get_x() + bar.get_width() / 2, height + 0.01, f\"{height:.2f}\", ha='center', va='bottom', fontsize=10)\n",
    "plt.xlabel('Modelos')\n",
    "plt.ylabel('Accuracy')\n",
    "plt.title('Comparación de modelos de Bagging')\n",
    "plt.xticks(rotation=45)\n",
    "plt.tight_layout()\n",
    "plt.show()"
   ]
  },
  {
   "cell_type": "markdown",
   "metadata": {},
   "source": [
    "### Punto 8 - Votación Ponderada\n",
    "En la celda 8 elabore un ensamble con la metodología de **Votación ponderada** compuesto por 300 muestras bagged para los mismos tres escenarios del punto 7. Evalúe los modelos utilizando las métricas de Accuracy y F1-Score"
   ]
  },
  {
   "cell_type": "code",
   "execution_count": 177,
   "metadata": {},
   "outputs": [
    {
     "name": "stdout",
     "output_type": "stream",
     "text": [
      "\n",
      "Resultados del modelo de Bagging con árbol de decisión 1:\n",
      "Accuracy: 0.6639\n",
      "F1 Score: 0.6611\n",
      "Confusion Matrix:\n",
      "[[605 286]\n",
      " [319 590]]\n",
      "\n",
      "Resultados del modelo de Bagging con árbol de decisión 2:\n",
      "Accuracy: 0.6511\n",
      "F1 Score: 0.6424\n",
      "Confusion Matrix:\n",
      "[[608 283]\n",
      " [345 564]]\n",
      "\n",
      "Resultados del modelo de Bagging con regresión logística:\n",
      "Accuracy: 0.6222\n",
      "F1 Score: 0.6087\n",
      "Confusion Matrix:\n",
      "[[591 300]\n",
      " [380 529]]\n",
      "\n",
      "Resultados del ensamble con votación ponderada:\n",
      "Pesos utilizados: Arbol 1=0.34, Arbol 2=0.34, Regresion Logistica=0.32\n",
      "Accuracy: 0.6367\n",
      "F1 Score: 0.6297\n",
      "Confusion Matrix:\n",
      "[[590 301]\n",
      " [353 556]]\n"
     ]
    },
    {
     "data": {
      "image/png": "[encoded data removed]",
      "text/plain": [
       "<Figure size 1000x600 with 1 Axes>"
      ]
     },
     "metadata": {},
     "output_type": "display_data"
    }
   ],
   "source": [
    "# Celda 8\n",
    "# Definicion de modelos\n",
    "tree1 = DecisionTreeClassifier(max_depth=6, random_state=1)\n",
    "tree2 = DecisionTreeClassifier(min_samples_leaf=10, random_state=1)\n",
    "log_reg = LogisticRegression(max_iter=1000, random_state=1)\n",
    "\n",
    "# Bagging de cada modelo con 100 estimadores\n",
    "n_estimators = 100\n",
    "bagged_tree1 = BaggingClassifier(estimator=tree1, n_estimators=n_estimators, random_state=1)\n",
    "bagged_tree2 = BaggingClassifier(estimator=tree2, n_estimators=n_estimators, random_state=2)\n",
    "bagged_log = BaggingClassifier(estimator=log_reg, n_estimators=n_estimators, random_state=3)\n",
    "\n",
    "# Entrenamiento de los modelos\n",
    "bagged_tree1.fit(X_train, y_train)\n",
    "bagged_tree2.fit(X_train, y_train)\n",
    "bagged_log.fit(X_train, y_train)\n",
    "\n",
    "# Predicciones para cada estimador\n",
    "preds_tree1 = np.array([est.predict(X_test) for est in bagged_tree1.estimators_])\n",
    "preds_tree2 = np.array([est.predict(X_test) for est in bagged_tree2.estimators_])\n",
    "preds_log   = np.array([est.predict(X_test) for est in bagged_log.estimators_])\n",
    "\n",
    "# Promedio de predicciones por grupo\n",
    "voto_preds_tree1 = preds_tree1.mean(axis=0)\n",
    "voto_preds_tree2 = preds_tree2.mean(axis=0)\n",
    "voto_preds_log = preds_log.mean(axis=0)\n",
    "\n",
    "# Predicciones finales\n",
    "pred_tree1_final = np.round(voto_preds_tree1).astype(int)\n",
    "pred_tree2_final = np.round(voto_preds_tree2).astype(int)\n",
    "pred_log_final = np.round(voto_preds_log).astype(int)\n",
    "\n",
    "# Cálculo del error fuera de muestra para cada grupo\n",
    "error_tree1 = 1 - accuracy_score(y_test, pred_tree1_final)\n",
    "error_tree2 = 1 - accuracy_score(y_test, pred_tree2_final)\n",
    "error_log = 1 - accuracy_score(y_test, pred_log_final)\n",
    "\n",
    "# Normalizacion de los pesos de los errores fuera de muestra\n",
    "pesos = np.array([1 - error_tree1, 1 - error_tree2, 1 - error_log])\n",
    "alpha = pesos / pesos.sum()\n",
    "\n",
    "# Ensamble de modelo por votacion ponderada\n",
    "votos_ponderados = (alpha[0] * voto_preds_tree1) + (alpha[1] * voto_preds_tree2) + (alpha[2] * voto_preds_log)\n",
    "y_pred_ponderado = (votos_ponderados >= 0.5).astype(int)\n",
    "\n",
    "# Evaluación de los modelos\n",
    "print(\"\\nResultados del modelo de Bagging con árbol de decisión 1:\")\n",
    "print(f\"Accuracy: {accuracy_score(y_test, pred_tree1_final):.4f}\")\n",
    "print(f\"F1 Score: {f1_score(y_test, pred_tree1_final):.4f}\")\n",
    "print(f\"Confusion Matrix:\\n{confusion_matrix(y_test, pred_tree1_final)}\")\n",
    "\n",
    "print(\"\\nResultados del modelo de Bagging con árbol de decisión 2:\")\n",
    "print(f\"Accuracy: {accuracy_score(y_test, pred_tree2_final):.4f}\")\n",
    "print(f\"F1 Score: {f1_score(y_test, pred_tree2_final):.4f}\")\n",
    "print(f\"Confusion Matrix:\\n{confusion_matrix(y_test, pred_tree2_final)}\")\n",
    "\n",
    "print(\"\\nResultados del modelo de Bagging con regresión logística:\")\n",
    "print(f\"Accuracy: {accuracy_score(y_test, pred_log_final):.4f}\")\n",
    "print(f\"F1 Score: {f1_score(y_test, pred_log_final):.4f}\")\n",
    "print(f\"Confusion Matrix:\\n{confusion_matrix(y_test, pred_log_final)}\")\n",
    "\n",
    "# Evaluación del modelo de ensamble ponderado\n",
    "print(\"\\nResultados del ensamble con votación ponderada:\")\n",
    "#print(f\"Pesos utilizados: {alpha}\")\n",
    "print(f\"Pesos utilizados: Arbol 1={alpha[0]:.2f}, Arbol 2={alpha[1]:.2f}, Regresion Logistica={alpha[2]:.2f}\")\n",
    "print(f\"Accuracy: {accuracy_score(y_test, y_pred_ponderado):.4f}\")\n",
    "print(f\"F1 Score: {f1_score(y_test, y_pred_ponderado):.4f}\")\n",
    "print(f\"Confusion Matrix:\\n{confusion_matrix(y_test, y_pred_ponderado)}\")\n",
    "\n",
    "# Gráfica de comparación de resultados\n",
    "plt.figure(figsize=(10, 6))\n",
    "modelos = ['Bagging Tree 1', 'Bagging Tree 2', 'Bagging Log', 'Bagging Votacion Ponderada']\n",
    "acc = [accuracy_score(y_test, pred_tree1_final), accuracy_score(y_test, pred_tree2_final), accuracy_score(y_test, pred_log_final), accuracy_score(y_test, y_pred_ponderado)]\n",
    "bars = plt.bar(modelos, acc)\n",
    "for bar in bars:\n",
    "    height = bar.get_height()\n",
    "    plt.text(bar.get_x() + bar.get_width() / 2, height + 0.01, f\"{height:.2f}\", ha='center', va='bottom', fontsize=10)\n",
    "plt.xlabel('Modelos')\n",
    "plt.ylabel('Accuracy')\n",
    "plt.title('Comparación de modelos de Bagging y ensamble ponderado')\n",
    "plt.xticks(rotation=45)\n",
    "plt.tight_layout()\n",
    "plt.show()"
   ]
  },
  {
   "cell_type": "markdown",
   "metadata": {},
   "source": [
    "### Punto 9 - Comparación y análisis de resultados\n",
    "En la celda 9 comente sobre los resultados obtenidos con las metodologías usadas en los puntos 7 y 8, compare los resultados y enuncie posibles ventajas o desventajas de cada una de ellas."
   ]
  },
  {
   "cell_type": "code",
   "execution_count": 180,
   "metadata": {},
   "outputs": [
    {
     "data": {
      "image/png": "[encoded data removed]",
      "text/plain": [
       "<Figure size 1000x600 with 1 Axes>"
      ]
     },
     "metadata": {},
     "output_type": "display_data"
    },
    {
     "data": {
      "application/vnd.microsoft.datawrangler.viewer.v0+json": {
       "columns": [
        {
         "name": "index",
         "rawType": "int64",
         "type": "integer"
        },
        {
         "name": "Modelo",
         "rawType": "object",
         "type": "string"
        },
        {
         "name": "Accuracy",
         "rawType": "float64",
         "type": "float"
        },
        {
         "name": "F1 Score",
         "rawType": "float64",
         "type": "float"
        }
       ],
       "conversionMethod": "pd.DataFrame",
       "ref": "d81d468f-3195-4a7f-9381-8e16e894c778",
       "rows": [
        [
         "0",
         "Bagging Tree 1",
         "0.6638888888888889",
         "0.6610644257703081"
        ],
        [
         "1",
         "Bagging Tree 2",
         "0.6511111111111111",
         "0.642369020501139"
        ],
        [
         "2",
         "Bagging Log",
         "0.6222222222222222",
         "0.6087456846950517"
        ],
        [
         "3",
         "Ensamble Vot. Mayoritaria",
         "0.6366666666666667",
         "0.6300904977375565"
        ],
        [
         "4",
         "Ensamble Vot. Ponderada",
         "0.6366666666666667",
         "0.6296715741789355"
        ]
       ],
       "shape": {
        "columns": 3,
        "rows": 5
       }
      },
      "text/html": [
       "<div>\n",
       "<style scoped>\n",
       "    .dataframe tbody tr th:only-of-type {\n",
       "        vertical-align: middle;\n",
       "    }\n",
       "\n",
       "    .dataframe tbody tr th {\n",
       "        vertical-align: top;\n",
       "    }\n",
       "\n",
       "    .dataframe thead th {\n",
       "        text-align: right;\n",
       "    }\n",
       "</style>\n",
       "<table border=\"1\" class=\"dataframe\">\n",
       "  <thead>\n",
       "    <tr style=\"text-align: right;\">\n",
       "      <th></th>\n",
       "      <th>Modelo</th>\n",
       "      <th>Accuracy</th>\n",
       "      <th>F1 Score</th>\n",
       "    </tr>\n",
       "  </thead>\n",
       "  <tbody>\n",
       "    <tr>\n",
       "      <th>0</th>\n",
       "      <td>Bagging Tree 1</td>\n",
       "      <td>0.663889</td>\n",
       "      <td>0.661064</td>\n",
       "    </tr>\n",
       "    <tr>\n",
       "      <th>1</th>\n",
       "      <td>Bagging Tree 2</td>\n",
       "      <td>0.651111</td>\n",
       "      <td>0.642369</td>\n",
       "    </tr>\n",
       "    <tr>\n",
       "      <th>2</th>\n",
       "      <td>Bagging Log</td>\n",
       "      <td>0.622222</td>\n",
       "      <td>0.608746</td>\n",
       "    </tr>\n",
       "    <tr>\n",
       "      <th>3</th>\n",
       "      <td>Ensamble Vot. Mayoritaria</td>\n",
       "      <td>0.636667</td>\n",
       "      <td>0.630090</td>\n",
       "    </tr>\n",
       "    <tr>\n",
       "      <th>4</th>\n",
       "      <td>Ensamble Vot. Ponderada</td>\n",
       "      <td>0.636667</td>\n",
       "      <td>0.629672</td>\n",
       "    </tr>\n",
       "  </tbody>\n",
       "</table>\n",
       "</div>"
      ],
      "text/plain": [
       "                      Modelo  Accuracy  F1 Score\n",
       "0             Bagging Tree 1  0.663889  0.661064\n",
       "1             Bagging Tree 2  0.651111  0.642369\n",
       "2                Bagging Log  0.622222  0.608746\n",
       "3  Ensamble Vot. Mayoritaria  0.636667  0.630090\n",
       "4    Ensamble Vot. Ponderada  0.636667  0.629672"
      ]
     },
     "execution_count": 180,
     "metadata": {},
     "output_type": "execute_result"
    }
   ],
   "source": [
    "# Celda 9\n",
    "# Resultados de los puntos 7 y 8\n",
    "# Gráfica de comparación de resultados\n",
    "plt.figure(figsize=(10, 6))\n",
    "modelos = ['Bagging Tree 1', 'Bagging Tree 2', 'Bagging Log', 'Bagging Votacion Mayoritaria', 'Bagging Votacion Ponderada']\n",
    "acc = [accuracy_score(y_test, pred_tree1_final), accuracy_score(y_test, pred_tree2_final), accuracy_score(y_test, pred_log_final), accuracy_score(y_test, y_pred_ensamble), accuracy_score(y_test, y_pred_ponderado)]\n",
    "bars = plt.bar(modelos, acc)\n",
    "for bar in bars:\n",
    "    height = bar.get_height()\n",
    "    plt.text(bar.get_x() + bar.get_width() / 2, height + 0.01, f\"{height:.2f}\", ha='center', va='bottom', fontsize=10)\n",
    "plt.xlabel('Modelos')\n",
    "plt.ylabel('Accuracy')\n",
    "plt.title('Comparación de modelos de Bagging, votacion mayoritaria y votacion ponderada')\n",
    "plt.xticks(rotation=45)\n",
    "plt.tight_layout()\n",
    "plt.show()\n",
    "\n",
    "# Dataframe con los resultados de los modelos\n",
    "resultados = {\n",
    "    \"Modelo\": [\n",
    "        \"Bagging Tree 1\",\n",
    "        \"Bagging Tree 2\",\n",
    "        \"Bagging Log\",\n",
    "        \"Ensamble Vot. Mayoritaria\",\n",
    "        \"Ensamble Vot. Ponderada\"\n",
    "    ],\n",
    "    \"Accuracy\": [\n",
    "        accuracy_score(y_test, pred_tree1_final),\n",
    "        accuracy_score(y_test, pred_tree2_final),\n",
    "        accuracy_score(y_test, pred_log_final),\n",
    "        accuracy_score(y_test, y_pred_ensamble),\n",
    "        accuracy_score(y_test, y_pred_ponderado)\n",
    "    ],\n",
    "    \"F1 Score\": [\n",
    "        f1_score(y_test, pred_tree1_final),\n",
    "        f1_score(y_test, pred_tree2_final),\n",
    "        f1_score(y_test, pred_log_final),\n",
    "        f1_score(y_test, y_pred_ensamble),\n",
    "        f1_score(y_test, y_pred_ponderado)\n",
    "    ]\n",
    "}\n",
    "\n",
    "df_resultados = pd.DataFrame(resultados)\n",
    "df_resultados"
   ]
  },
  {
   "cell_type": "markdown",
   "metadata": {},
   "source": [
    "#### **Comparación y análisis de resultados de los puntos 7 y 8**\n",
    "\n",
    "**Comparación de resultados**:\n",
    "  * Bagging Tree 1 (max_depth=6) fue el modelo individual con mejor desempeño general (accuracy = 0.66, F1 = 0.66), mostrando buena capacidad de predicción y balance entre precisión y recall\n",
    "  * Bagging Regresión Logística fue el menos preciso (accuracy = 0.62), aunque su F1 Score (= 0.61) muestra que logra un buen balance entre clases, al tratarse de un modelo lineal\n",
    "  * Ensamble por votación mayoritaria (punto 7) tuvo un accuracy = 0.64 y un F1 Score = 0.63\n",
    "  * Ensamble por votación ponderada (punto 8) obtuvo métricas muy similares al modelo anterior (accuracy = 0.64, F1 = 0.63), mostrando que ponderar por desempeño no cambió drásticamente los resultados.\n",
    "  \n",
    "\n",
    "**Conclusiones**:\n",
    "  * El modelo de votación mayoritaria tiene como ventaja que permite reducir la varianza. No obstante, no considera la calidad individual de cada modelo, pues todos tienen el mismo peso.\n",
    "  * El modelo de votación ponderada tiene como ventaja que ajusta el peso según el desempeño fuera de muestra; puede mejorar si hay modelos muy superiores. Sin embargo, en este caso los porcentajes de ponderación eran muy similares entre los tres modelos (debido a errores fuera de muestra similares entre los tres grupos de modelos), por lo que la votación ponderada no generó una mejora significativa respecto a la votación mayoritaria\n",
    "  * Por lo anterior, **ninguno de los ensambles superó al mejor modelo individual (Bagging Tree 1), pero ambos mostraron mayor estabilidad general frente a los modelos más débiles.** Aunque los ensambles no siempre garantizan el rendimiento máximo, si logran mejorar la estabilidad y consisntencia."
   ]
  }
 ],
 "metadata": {
  "kernelspec": {
   "display_name": "venv",
   "language": "python",
   "name": "python3"
  },
  "language_info": {
   "codemirror_mode": {
    "name": "ipython",
    "version": 3
   },
   "file_extension": ".py",
   "mimetype": "text/x-python",
   "name": "python",
   "nbconvert_exporter": "python",
   "pygments_lexer": "ipython3",
   "version": "3.11.9"
  }
 },
 "nbformat": 4,
 "nbformat_minor": 4
}
